{
 "cells": [
  {
   "attachments": {},
   "cell_type": "markdown",
   "metadata": {},
   "source": [
    "# Crypto market dynamics in stressful conditions\n",
    "\n",
    "> *Understanding market liquidity and trading dynamics in one of the most innovative and volatile markets in the world, is crucial from the standpoint of both regulators and investors. In contrast to stocks, very little is known about the functioning of cryptos around extreme returns (ERs). Using high-frequency order-book and trade data for the 8 most widespread cryptos on 16 trading platforms over three years, we examine the contemporaneous and lagged influence of trading activity and liquidity on the occurrence of extreme returns (ERs) in a logistic regression framework adapted to rare events. Despite its huge volatility, we show that the trading and liquidity dynamics on the crypto market around ERs is not orthogonal to what traditional markets experience in stressful conditions. The number of trades is a particularly robust driver to explain the occurrence of ERs, followed by the relative spread. The same drivers are identified for traditional markets.*"
   ]
  }
 ],
 "metadata": {
  "kernelspec": {
   "display_name": "Python 3",
   "language": "python",
   "name": "python3"
  },
  "language_info": {
   "name": "python",
   "version": "3.10.9 (main, Dec 15 2022, 17:11:09) [Clang 14.0.0 (clang-1400.0.29.202)]"
  },
  "orig_nbformat": 4,
  "vscode": {
   "interpreter": {
    "hash": "b0fa6594d8f4cbf19f97940f81e996739fb7646882a419484c72d19e05852a7e"
   }
  }
 },
 "nbformat": 4,
 "nbformat_minor": 2
}
