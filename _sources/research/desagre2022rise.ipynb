{
 "cells": [
  {
   "attachments": {},
   "cell_type": "markdown",
   "metadata": {},
   "source": [
    "# The rise of fast trading: Curse or blessing for liquidity?\n",
    "\n",
    "> *We study how market liquidity on Euronext has evolved with the rise of fast trading. We identify fast traders by directly measuring message traffic and the lifetime of orders for every individual market member on Euronext using their identification codes. We observe an overall improvement in terms of liquidity between 2002 and 2006. However, the most exposed stocks to fast trading exhibit the weakest increase in liquidity and lose the liquidity advantage they had before the rise of fast trading.*"
   ]
  }
 ],
 "metadata": {
  "kernelspec": {
   "display_name": "Python 3",
   "language": "python",
   "name": "python3"
  },
  "language_info": {
   "name": "python",
   "version": "3.10.9 (main, Dec 15 2022, 17:11:09) [Clang 14.0.0 (clang-1400.0.29.202)]"
  },
  "orig_nbformat": 4,
  "vscode": {
   "interpreter": {
    "hash": "b0fa6594d8f4cbf19f97940f81e996739fb7646882a419484c72d19e05852a7e"
   }
  }
 },
 "nbformat": 4,
 "nbformat_minor": 2
}
