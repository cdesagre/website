{
 "cells": [
  {
   "attachments": {},
   "cell_type": "markdown",
   "metadata": {},
   "source": [
    "# Googlization and retail trading activity\n",
    "\n",
    "> *A large body of literature documents a positive relationship between the Google Search Volume Index (SVI) and market returns or volumes. Such findings are consistent with a buying pressure due to increased attention. Unlike most of the studies that use market data, we use the trading accounts for a sample of retail investors. The advantage is twofold; we are able to disentangle purchases from sales, and our results are not biased by any institutional trading. We find that the relationship between the SVI and retail trading activity is positive but not stronger for purchases than for sales. We also demonstrate evidence of a bidirectional causality between attention and trading activity, though contemporaneous effects predominate. Our results are robust to controls based on sociodemographics or subjective investor characteristics, as well as various specifications of the SVI and different measures of trading activity.*"
   ]
  }
 ],
 "metadata": {
  "kernelspec": {
   "display_name": "Python 3",
   "language": "python",
   "name": "python3"
  },
  "language_info": {
   "name": "python",
   "version": "3.10.9 (main, Dec 15 2022, 17:11:09) [Clang 14.0.0 (clang-1400.0.29.202)]"
  },
  "orig_nbformat": 4,
  "vscode": {
   "interpreter": {
    "hash": "b0fa6594d8f4cbf19f97940f81e996739fb7646882a419484c72d19e05852a7e"
   }
  }
 },
 "nbformat": 4,
 "nbformat_minor": 2
}
