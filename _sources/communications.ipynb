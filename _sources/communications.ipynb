{
 "cells": [
  {
   "attachments": {},
   "cell_type": "markdown",
   "metadata": {},
   "source": [
    "# Communications\n",
    "\n",
    "- **2022:**\n",
    "    - ICHEC, Midi de la recherche (Brussels)\n",
    "    - ICHEC, Quaresmi seminar (Brussels)\n",
    "- **2020:**\n",
    "    - 6th International Symposium in Computational Economics and Finance (Online)\n",
    "- **2019:** \n",
    "    - LFIN internal seminar (Mons)\n",
    "    - 3rd European capital market workshop (Dublin)\n",
    "    - 32nd Finance and banking conference (Sydney)\n",
    "    - New Zealand finance meeting (Auckland)\n",
    "-\t**2018:**\n",
    "    - 35th AFFI conference (Paris)\n",
    "    - Belgian financial research forum (Brussels)\n",
    "    - Warsaw international economic meeting (Warsaw)\n",
    "    - Second European capital market workshop (London)\n",
    "    - Financial econometrics conference (Lancaster)\n",
    "-\t**2017:** \n",
    "    - Doctoral forum in management (Mons)\n",
    "    - 3L workshop (Brussels)\n",
    "-\t**2016:** \n",
    "    - PhD workshop (Namur)\n",
    "    - 3L workshop (Brussels)\n",
    "    - 33rd AFFI conference (Liege)"
   ]
  },
  {
   "attachments": {},
   "cell_type": "markdown",
   "metadata": {},
   "source": [
    "## Press articles\n",
    "\n",
    "- Le bitcoin, une mine d'or digital! La Libre Eco, 08/02/2021 [[Article](https://www.lalibre.be/economie/decideurs-chroniqueurs/le-bitcoin-une-mine-d-or-digital-601c00587b50a652f79bd066)]\n",
    "\n",
    "- La bourse a vu rouge! La Libre Eco, 28/03/2020 [[Article](https://www.lalibre.be/economie/placements/2020/03/26/le-marche-boursier-belge-voit-rouge-en-un-mois-le-bel20-est-passe-de-4-198-points-a-2-528-points-GRSVV4FUVNFMBGP45MN7MIV6EY/)]\n",
    "\n",
    "-\tLe bitcoin, une vraie revolution?. La Libre Entreprise, 07/09/2019 [[Article](https://www.lalibre.be/economie/decideurs-chroniqueurs/2019/09/16/le-bitcoin-une-vraie-revolution-JMK4KCHA5ZAQ7DCNBMY2W64MLM/)]\n",
    "\n",
    "-\tLa Googlization en finance. La Libre Entreprise, 04/07/2018 [[Article](communications/googlization.ipynb)]\n",
    "\n",
    "-\tUne finance plus digitale. La Libre Entreprise, 01/28/2017. [[Article](communications/finance_digitale.ipynb)]\n",
    "\n",
    "-\tLa vitesse sur les marchés financiers : stop ou encore ? Regards économiques, 12/08/2016 (avec F. Laly et M. Petitjean)\n",
    "[[Article](https://www.regards-economiques.be/index.php?option=com_reco&view=article&cid=165https://www.regards-economiques.be/index.php?option=com_reco&view=article&cid=165)]"
   ]
  }
 ],
 "metadata": {
  "kernelspec": {
   "display_name": "Python 3",
   "language": "python",
   "name": "python3"
  },
  "language_info": {
   "name": "python",
   "version": "3.10.9 (main, Dec 15 2022, 17:11:09) [Clang 14.0.0 (clang-1400.0.29.202)]"
  },
  "orig_nbformat": 4,
  "vscode": {
   "interpreter": {
    "hash": "b0fa6594d8f4cbf19f97940f81e996739fb7646882a419484c72d19e05852a7e"
   }
  }
 },
 "nbformat": 4,
 "nbformat_minor": 2
}
