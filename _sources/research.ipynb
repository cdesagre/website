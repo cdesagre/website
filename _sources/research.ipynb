{
 "cells": [
  {
   "attachments": {},
   "cell_type": "markdown",
   "metadata": {},
   "source": [
    "# Research"
   ]
  },
  {
   "attachments": {},
   "cell_type": "markdown",
   "metadata": {},
   "source": [
    "## Publications"
   ]
  },
  {
   "attachments": {},
   "cell_type": "markdown",
   "metadata": {},
   "source": [
    "Christophe Desagre, Paolo Mazza & Mikael Petitjean (2022) Crypto market dynamics in stressful conditions, Applied Economics, [Link to paper](https://doi.org/10.1080/00036846.2022.2108754)\n",
    "\n",
    "> *Understanding market liquidity and trading dynamics in one of the most innovative and volatile markets in the world, is crucial from the standpoint of both regulators and investors. In contrast to stocks, very little is known about the functioning of cryptos around extreme returns (ERs). Using high-frequency order-book and trade data for the 8 most widespread cryptos on 16 trading platforms over three years, we examine the contemporaneous and lagged influence of trading activity and liquidity on the occurrence of extreme returns (ERs) in a logistic regression framework adapted to rare events. Despite its huge volatility, we show that the trading and liquidity dynamics on the crypto market around ERs is not orthogonal to what traditional markets experience in stressful conditions. The number of trades is a particularly robust driver to explain the occurrence of ERs, followed by the relative spread. The same drivers are identified for traditional markets.*\n"
   ]
  },
  {
   "attachments": {},
   "cell_type": "markdown",
   "metadata": {},
   "source": [
    "Desagre, C., D’Hondt, C., & Petitjean, M. (2022). The rise of fast trading: Curse or blessing for liquidity?. Finance [Link to paper](https://doi.org/10.3917/fina.pr.i)\n",
    "\n",
    "> *We study how market liquidity on Euronext has evolved with the rise of fast trading. We identify fast traders by directly measuring message traffic and the lifetime of orders for every individual market member on Euronext using their identification codes. We observe an overall improvement in terms of liquidity between 2002 and 2006. However, the most exposed stocks to fast trading exhibit the weakest increase in liquidity and lose the liquidity advantage they had before the rise of fast trading.*"
   ]
  },
  {
   "attachments": {},
   "cell_type": "markdown",
   "metadata": {},
   "source": [
    "Desagre, C., & D’Hondt, C. (2021). Googlization and retail trading activity. Journal of Behavioral and Experimental Finance, 29, 100453. [Link to paper](https://doi.org/10.1016/j.jbef.2020.100453)\n",
    "\n",
    "> *A large body of literature documents a positive relationship between the Google Search Volume Index (SVI) and market returns or volumes. Such findings are consistent with a buying pressure due to increased attention. Unlike most of the studies that use market data, we use the trading accounts for a sample of retail investors. The advantage is twofold; we are able to disentangle purchases from sales, and our results are not biased by any institutional trading. We find that the relationship between the SVI and retail trading activity is positive but not stronger for purchases than for sales. We also demonstrate evidence of a bidirectional causality between attention and trading activity, though contemporaneous effects predominate. Our results are robust to controls based on sociodemographics or subjective investor characteristics, as well as various specifications of the SVI and different measures of trading activity.*"
   ]
  }
 ],
 "metadata": {
  "kernelspec": {
   "display_name": "Python 3",
   "language": "python",
   "name": "python3"
  },
  "language_info": {
   "name": "python",
   "version": "3.10.9 (main, Dec 15 2022, 17:11:09) [Clang 14.0.0 (clang-1400.0.29.202)]"
  },
  "orig_nbformat": 4,
  "vscode": {
   "interpreter": {
    "hash": "b0fa6594d8f4cbf19f97940f81e996739fb7646882a419484c72d19e05852a7e"
   }
  }
 },
 "nbformat": 4,
 "nbformat_minor": 2
}
