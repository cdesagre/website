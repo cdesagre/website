{
 "cells": [
  {
   "attachments": {},
   "cell_type": "markdown",
   "metadata": {},
   "source": [
    "# Research"
   ]
  },
  {
   "attachments": {},
   "cell_type": "markdown",
   "metadata": {},
   "source": [
    "## Publications"
   ]
  },
  {
   "attachments": {},
   "cell_type": "markdown",
   "metadata": {},
   "source": [
    "Desagre, C., Mazza, P., & Petitjean, M. (2022). Crypto market dynamics in stressful conditions, Applied Economics\n",
    "\n",
    "- [Link to paper](https://doi.org/10.1080/00036846.2022.2108754)\n",
    "- [Abstract](research/desagre2022crypto)\n"
   ]
  },
  {
   "attachments": {},
   "cell_type": "markdown",
   "metadata": {},
   "source": [
    "Desagre, C., D’Hondt, C., & Petitjean, M. (2022). The rise of fast trading: Curse or blessing for liquidity?. Finance \n",
    "\n",
    "- [Link to paper](https://doi.org/10.3917/fina.pr.i)\n",
    "- [Abstract](research/desagre2022rise.ipynb)\n"
   ]
  },
  {
   "attachments": {},
   "cell_type": "markdown",
   "metadata": {},
   "source": [
    "Desagre, C., & D’Hondt, C. (2021). Googlization and retail trading activity. Journal of Behavioral and Experimental Finance, 29, 100453. \n",
    "\n",
    "- [Link to paper](https://doi.org/10.1016/j.jbef.2020.100453)\n",
    "- [Abstract](research/desagre2021googlization.ipynb)"
   ]
  },
  {
   "attachments": {},
   "cell_type": "markdown",
   "metadata": {},
   "source": [
    "## Working papers"
   ]
  },
  {
   "attachments": {},
   "cell_type": "markdown",
   "metadata": {},
   "source": [
    "Menkveld, A., Dreber, A., Holzmeister, F., Huber, J., Johannesson, M., Kirchler, M., ... & Wolff, C. C. (2021). Non-Standard Errors. [[SSRN](https://papers.ssrn.com/sol3/papers.cfm?abstract_id=3961574)]\n",
    "\n",
    "> *In statistics, samples are drawn from a population in a data generating process (DGP). Standard errors measure the uncertainty in sample estimates of population parameters. In science, evidence is generated to test hypotheses in an evidence generating process (EGP). We claim that EGP variation across researchers adds uncertainty: non-standard errors. To study them, we let 164 teams test six hypotheses on the same sample. We find that non-standard errors are sizeable, on par with standard errors. Their size (i) co-varies only weakly with team merits, reproducibility, or peer rating, (ii) declines significantly after peer-feedback, and (iii) is underestimated by participants.*\n",
    "\n",
    "[[Video presentation of the project](https://www.youtube.com/watch?v=TpPdHHQSZHI)]\n"
   ]
  },
  {
   "attachments": {},
   "cell_type": "markdown",
   "metadata": {},
   "source": [
    "Desagre, C., Laly, F., & Petitjean, M. (2020) High-frequency traders and flash events: trading activity and liquidity dynamics around mini flash crashes\n",
    "\n",
    "> *We investigate how high-frequency traders (HFTs) behave around and during a certain type of flash events known as mini flash crashes (MFCs) on 74 large, medium and small Nasdaq stocks over the period 2008-2010. To do so, we identify MFCs by replicating Nanex MFC detection algorithm and complement our study with a parallel analysis on extreme price movements (EPMs), providing an alternative way to measure them. Our findings reveal that the behavior of HFTs around and during 1.5-second crashes is ambiguous. Based on directional trade imbalance metrics, we find that HFTs do highly significantly exacerbate the crash during 1.5-second extreme price movements, which contradicts the findings by Brogaard et al. (2018), and that NHFTs are the ones who contribute to the resiliency of stock prices after EPMs (at a 1% significance level). However, based on a multivariate regression analysis, we find that, on average, HFTs reduce their liquidity demand during EPMs. When studying MFC and EPM subsamples by market capitalization, we find that HFTs do reduce their liquidity demand during EPMs occurring on large stocks but increase their liquidity demand during EPMs occurring on small stocks. The virtuous behavior of HFTs in large stocks may thus hide a more vicious behavior in small stocks. Moreover, we find that the reduction in HFT liquidity demand is more pronounced during the opening and closing periods. Finally, we find that HFT participation at time $t-1$ is by far the main determinant of mini flash crashes at time $t$, whatever the model specification.*"
   ]
  },
  {
   "attachments": {},
   "cell_type": "markdown",
   "metadata": {},
   "source": [
    "Anciaux, H., Desagre, C., & Petitjean, M. (2021). Liquidity co-movements and volatility regimes in cryptocurrencies. [[SSRN](https://papers.ssrn.com/sol3/papers.cfm?abstract_id=3769309)]\n",
    "\n",
    "> *We find significant evidence of liquidity commonalities among cryptos, in particular when liquidity is estimated by relying on order-book-based proxies. Both the magnitude and pervasiveness of these co-movements are very similar to those estimated for US stocks 10 and 20 years ago. When we introduce volatility regimes based on the VCRIX volatility index on cryptocurrencies, we identify stronger liquidity co-movements in high volatility regimes across all cryptocurrencies and for all liquidity proxies. The magnitude and pervasiveness of commonalities are weaker in the low volatility regime when liquidity is arguably more idiosyncratic, affecting cryptos differently and leading to more disconnected movements relative to market liquidity. We conclude that the liquidity co-movements are not orthogonal to what was observed in the past for more centralized markets.*"
   ]
  }
 ],
 "metadata": {
  "kernelspec": {
   "display_name": "Python 3",
   "language": "python",
   "name": "python3"
  },
  "language_info": {
   "name": "python",
   "version": "3.10.9 (main, Dec 15 2022, 17:11:09) [Clang 14.0.0 (clang-1400.0.29.202)]"
  },
  "orig_nbformat": 4,
  "vscode": {
   "interpreter": {
    "hash": "b0fa6594d8f4cbf19f97940f81e996739fb7646882a419484c72d19e05852a7e"
   }
  }
 },
 "nbformat": 4,
 "nbformat_minor": 2
}
